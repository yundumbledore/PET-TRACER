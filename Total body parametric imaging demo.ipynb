{
 "cells": [
  {
   "cell_type": "code",
   "execution_count": 1,
   "id": "33e0e3a6",
   "metadata": {},
   "outputs": [
    {
     "name": "stdout",
     "output_type": "stream",
     "text": [
      "mps\n"
     ]
    }
   ],
   "source": [
    "from PetTracer import *\n",
    "\n",
    "device = torch.device('cuda:0' if torch.cuda.is_available() else 'mps' if torch.backends.mps.is_available() else 'cpu')\n",
    "print(device)"
   ]
  },
  {
   "cell_type": "code",
   "execution_count": 2,
   "id": "e312372c",
   "metadata": {},
   "outputs": [],
   "source": [
    "# Load model\n",
    "model = get_model(device)"
   ]
  },
  {
   "cell_type": "code",
   "execution_count": null,
   "id": "27876bd3",
   "metadata": {},
   "outputs": [
    {
     "name": "stderr",
     "output_type": "stream",
     "text": [
      "  2%|▉                                          | 3/133 [00:24<17:27,  8.06s/it]"
     ]
    }
   ],
   "source": [
    "data_path = './Sample_data/example_tb_pet.h5'\n",
    "tbpet_inference(model, device, data_path, sample_size = 1000, num_timesteps = 3, batch_size = 500)"
   ]
  },
  {
   "cell_type": "code",
   "execution_count": null,
   "id": "99a15dfe",
   "metadata": {},
   "outputs": [],
   "source": []
  }
 ],
 "metadata": {
  "kernelspec": {
   "display_name": "Python 3 (ipykernel)",
   "language": "python",
   "name": "python3"
  },
  "language_info": {
   "codemirror_mode": {
    "name": "ipython",
    "version": 3
   },
   "file_extension": ".py",
   "mimetype": "text/x-python",
   "name": "python",
   "nbconvert_exporter": "python",
   "pygments_lexer": "ipython3",
   "version": "3.11.5"
  }
 },
 "nbformat": 4,
 "nbformat_minor": 5
}
