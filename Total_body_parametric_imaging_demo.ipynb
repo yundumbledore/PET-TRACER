{
 "cells": [
  {
   "cell_type": "code",
   "execution_count": null,
   "id": "33e0e3a6",
   "metadata": {},
   "outputs": [],
   "source": [
    "import sys\n",
    "sys.path.append('Source')\n",
    "from PetTracer import *\n",
    "\n",
    "device = torch.device('cuda:0' if torch.cuda.is_available() else 'mps' if torch.backends.mps.is_available() else 'cpu')\n",
    "print(device)"
   ]
  },
  {
   "cell_type": "code",
   "execution_count": null,
   "id": "5b297ea9",
   "metadata": {},
   "outputs": [],
   "source": [
    "# Load model\n",
    "model = get_model(device)"
   ]
  },
  {
   "cell_type": "code",
   "execution_count": null,
   "id": "01b96fd2",
   "metadata": {},
   "outputs": [],
   "source": [
    "data_path = './Sample_data/P001_PET_coronal_116_denoised_adjusted.h5'\n",
    "tbpet_inference(model, device, data_path, sample_size = 1000, num_timesteps = 3, batch_size = 500)"
   ]
  },
  {
   "cell_type": "code",
   "execution_count": null,
   "id": "e5b2e768",
   "metadata": {},
   "outputs": [],
   "source": [
    "## Show Ki map predicted by CM\n",
    "slice_index = 116\n",
    "mask = np.load(\"./Assets/P001_mask.npy\")\n",
    "mask_slice = mask[:,slice_index,:]\n",
    "spacing = np.array([3.3,3.3,1.645])[[0,2]] # P001\n",
    "estimates = np.load('Output/example_estimates.npy')\n",
    "parameter_name = \"Ki Posterior Mean\"\n",
    "statistic = estimates[0,:]\n",
    "parametric_map_interactive(statistic, mask_slice, spacing, parameter_name)"
   ]
  },
  {
   "cell_type": "code",
   "execution_count": null,
   "id": "f11fc47e",
   "metadata": {},
   "outputs": [],
   "source": []
  }
 ],
 "metadata": {
  "kernelspec": {
   "display_name": "base",
   "language": "python",
   "name": "python3"
  },
  "language_info": {
   "codemirror_mode": {
    "name": "ipython",
    "version": 3
   },
   "file_extension": ".py",
   "mimetype": "text/x-python",
   "name": "python",
   "nbconvert_exporter": "python",
   "pygments_lexer": "ipython3",
   "version": "3.11.5"
  }
 },
 "nbformat": 4,
 "nbformat_minor": 5
}
